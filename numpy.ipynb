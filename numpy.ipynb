{
 "cells": [
  {
   "cell_type": "markdown",
   "id": "f35aff17-968a-4405-9daa-7391454f4962",
   "metadata": {},
   "source": [
    "Consider the below code to answer further questions:\n",
    "import numpy as np\n",
    "list_ = [ ‘1’ , ’2’ , ‘3’ , ‘4’ , ‘5’ ]\n",
    "array_list = np.array(object = list_)\n",
    "Q1. Is there any difference in the data type of variables list_ and array_list? If there is then write a code\n",
    "to print the data types of both the variables.\n",
    "\n",
    "\n",
    "\n",
    "different between datatypes and print\n",
    "\n",
    "print(type(list_))       # Output: <class 'list'>\n",
    "print(type(array_list))  # Output: <class 'numpy.ndarray'>\n"
   ]
  },
  {
   "cell_type": "markdown",
   "id": "63a24268-1483-4cd0-ab54-78fe1dac7d5b",
   "metadata": {},
   "source": [
    "Q2. Data type of each element:\n",
    "    \n",
    "    \n",
    "    \n",
    "    for item in list_:\n",
    "    print(type(item))\n",
    "\n",
    "for item in array_list:\n",
    "    print(type(item))\n"
   ]
  },
  {
   "cell_type": "markdown",
   "id": "791b545c-6c7d-4c2d-83dc-65624955283e",
   "metadata": {},
   "source": [
    "Q3. Considering the following changes in the variable, array_list:\n",
    "array_list = np.array(object = list_, dtype = int)\n",
    "Will there be any difference in the data type of the elements present in both the variables, list_ and\n",
    "arra_list? If so then print the data types of each and every element present in both the variables, list_\n",
    "and arra_list.\n",
    "Consider the below code to answer further questions:\n",
    "import numpy as np\n",
    "num_list = [ [ 1 , 2 , 3 ] , [ 4 , 5 , 6 ] ]\n",
    "num_array = np.array(object = num_list).\n",
    "\n",
    "Ans:\n",
    "    \n",
    "array_list = np.array(object=list_, dtype=int)\n",
    "\n",
    "for item in list_:\n",
    "    print(type(item))\n",
    "\n",
    "for item in array_list:\n",
    "    print(type(item))\n",
    "\n",
    "    \n",
    "    #for second\n",
    "    import numpy as np\n",
    "\n",
    "num_list = [[1, 2, 3], [4, 5, 6]]\n",
    "num_array = np.array(object=num_list)\n"
   ]
  },
  {
   "cell_type": "markdown",
   "id": "0213fc13-c26b-4526-a263-cd72d493ea96",
   "metadata": {},
   "source": [
    "Q4. Write a code to find the following characteristics of variable, num_array:\n",
    "(i) shape\n",
    "(ii) size\n",
    "Ans:\n",
    "    # (i) Shape\n",
    "print(num_array.shape)  # Output: (2, 3)\n",
    "\n",
    "# (ii) Size\n",
    "print(num_array.size)   # Output: 6\n"
   ]
  },
  {
   "cell_type": "markdown",
   "id": "37b06840-a557-496f-bbf5-ac4e63caa888",
   "metadata": {},
   "source": [
    "Q5. Write a code to create numpy array of 3*3 matrix containing zeros only, using a numpy array\n",
    "creation function.\n",
    "[Hint: The size of the array will be 9 and the shape will be (3,3).]\n",
    "\n",
    "\n",
    "zeros_array = np.zeros((3, 3))\n",
    "print(zeros_array)\n"
   ]
  },
  {
   "cell_type": "markdown",
   "id": "907adac8-85aa-49bb-a75c-9c1e60f6fbd8",
   "metadata": {},
   "source": [
    "Q6. Create an identity matrix of shape (5,5) using numpy functions?\n",
    "[Hint: An identity matrix is a matrix containing 1 diagonally and other elements will be 0.]\n",
    "\n",
    "\n",
    "identity_matrix = np.eye(5)\n",
    "print(identity_matrix)\n"
   ]
  },
  {
   "cell_type": "code",
   "execution_count": null,
   "id": "32aada75-8c1b-4c2f-8d94-5981c1a33113",
   "metadata": {},
   "outputs": [],
   "source": []
  }
 ],
 "metadata": {
  "kernelspec": {
   "display_name": "Python 3 (ipykernel)",
   "language": "python",
   "name": "python3"
  },
  "language_info": {
   "codemirror_mode": {
    "name": "ipython",
    "version": 3
   },
   "file_extension": ".py",
   "mimetype": "text/x-python",
   "name": "python",
   "nbconvert_exporter": "python",
   "pygments_lexer": "ipython3",
   "version": "3.10.8"
  }
 },
 "nbformat": 4,
 "nbformat_minor": 5
}
